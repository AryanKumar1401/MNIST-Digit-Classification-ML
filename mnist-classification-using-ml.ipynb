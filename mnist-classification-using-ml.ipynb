{
 "cells": [
  {
   "cell_type": "code",
   "execution_count": 1,
   "id": "f9df3bf4",
   "metadata": {
    "papermill": {
     "duration": 1.525996,
     "end_time": "2022-07-28T22:17:28.240758",
     "exception": false,
     "start_time": "2022-07-28T22:17:26.714762",
     "status": "completed"
    },
    "tags": []
   },
   "outputs": [],
   "source": [
    "import matplotlib as matplotlib\n",
    "import matplotlib as mpl\n",
    "import pandas as pd\n",
    "import seaborn as sns\n",
    "import matplotlib.pyplot as plt\n",
    "import numpy as np\n",
    "\n",
    "from sklearn.metrics import roc_curve, plot_roc_curve, roc_auc_score, f1_score\n",
    "from sklearn.model_selection import cross_val_predict\n"
   ]
  },
  {
   "cell_type": "markdown",
   "id": "e0a21d40",
   "metadata": {
    "papermill": {
     "duration": 0.014312,
     "end_time": "2022-07-28T22:17:28.270270",
     "exception": false,
     "start_time": "2022-07-28T22:17:28.255958",
     "status": "completed"
    },
    "tags": []
   },
   "source": [
    "Download the Data  : "
   ]
  },
  {
   "cell_type": "code",
   "execution_count": null,
   "id": "00bbf5c0",
   "metadata": {
    "papermill": {
     "duration": 5.905845,
     "end_time": "2022-07-28T22:17:34.190804",
     "exception": false,
     "start_time": "2022-07-28T22:17:28.284959",
     "status": "completed"
    },
    "tags": []
   },
   "outputs": [],
   "source": [
    "train = pd.read_csv('train.csv')\n",
    "test=pd.read_csv('test.csv')\n",
    "sample=pd.read_csv('sample_submission.csv')"
   ]
  },
  {
   "cell_type": "code",
   "execution_count": 3,
   "id": "a53b54d7",
   "metadata": {
    "execution": {
     "iopub.execute_input": "2022-07-28T22:17:34.222480Z",
     "iopub.status.busy": "2022-07-28T22:17:34.222089Z",
     "iopub.status.idle": "2022-07-28T22:17:34.250259Z",
     "shell.execute_reply": "2022-07-28T22:17:34.249155Z"
    },
    "papermill": {
     "duration": 0.047165,
     "end_time": "2022-07-28T22:17:34.253084",
     "exception": false,
     "start_time": "2022-07-28T22:17:34.205919",
     "status": "completed"
    },
    "tags": []
   },
   "outputs": [
    {
     "data": {
      "text/html": [
       "<div>\n",
       "<style scoped>\n",
       "    .dataframe tbody tr th:only-of-type {\n",
       "        vertical-align: middle;\n",
       "    }\n",
       "\n",
       "    .dataframe tbody tr th {\n",
       "        vertical-align: top;\n",
       "    }\n",
       "\n",
       "    .dataframe thead th {\n",
       "        text-align: right;\n",
       "    }\n",
       "</style>\n",
       "<table border=\"1\" class=\"dataframe\">\n",
       "  <thead>\n",
       "    <tr style=\"text-align: right;\">\n",
       "      <th></th>\n",
       "      <th>label</th>\n",
       "      <th>pixel0</th>\n",
       "      <th>pixel1</th>\n",
       "      <th>pixel2</th>\n",
       "      <th>pixel3</th>\n",
       "      <th>pixel4</th>\n",
       "      <th>pixel5</th>\n",
       "      <th>pixel6</th>\n",
       "      <th>pixel7</th>\n",
       "      <th>pixel8</th>\n",
       "      <th>...</th>\n",
       "      <th>pixel774</th>\n",
       "      <th>pixel775</th>\n",
       "      <th>pixel776</th>\n",
       "      <th>pixel777</th>\n",
       "      <th>pixel778</th>\n",
       "      <th>pixel779</th>\n",
       "      <th>pixel780</th>\n",
       "      <th>pixel781</th>\n",
       "      <th>pixel782</th>\n",
       "      <th>pixel783</th>\n",
       "    </tr>\n",
       "  </thead>\n",
       "  <tbody>\n",
       "    <tr>\n",
       "      <th>0</th>\n",
       "      <td>1</td>\n",
       "      <td>0</td>\n",
       "      <td>0</td>\n",
       "      <td>0</td>\n",
       "      <td>0</td>\n",
       "      <td>0</td>\n",
       "      <td>0</td>\n",
       "      <td>0</td>\n",
       "      <td>0</td>\n",
       "      <td>0</td>\n",
       "      <td>...</td>\n",
       "      <td>0</td>\n",
       "      <td>0</td>\n",
       "      <td>0</td>\n",
       "      <td>0</td>\n",
       "      <td>0</td>\n",
       "      <td>0</td>\n",
       "      <td>0</td>\n",
       "      <td>0</td>\n",
       "      <td>0</td>\n",
       "      <td>0</td>\n",
       "    </tr>\n",
       "    <tr>\n",
       "      <th>1</th>\n",
       "      <td>0</td>\n",
       "      <td>0</td>\n",
       "      <td>0</td>\n",
       "      <td>0</td>\n",
       "      <td>0</td>\n",
       "      <td>0</td>\n",
       "      <td>0</td>\n",
       "      <td>0</td>\n",
       "      <td>0</td>\n",
       "      <td>0</td>\n",
       "      <td>...</td>\n",
       "      <td>0</td>\n",
       "      <td>0</td>\n",
       "      <td>0</td>\n",
       "      <td>0</td>\n",
       "      <td>0</td>\n",
       "      <td>0</td>\n",
       "      <td>0</td>\n",
       "      <td>0</td>\n",
       "      <td>0</td>\n",
       "      <td>0</td>\n",
       "    </tr>\n",
       "    <tr>\n",
       "      <th>2</th>\n",
       "      <td>1</td>\n",
       "      <td>0</td>\n",
       "      <td>0</td>\n",
       "      <td>0</td>\n",
       "      <td>0</td>\n",
       "      <td>0</td>\n",
       "      <td>0</td>\n",
       "      <td>0</td>\n",
       "      <td>0</td>\n",
       "      <td>0</td>\n",
       "      <td>...</td>\n",
       "      <td>0</td>\n",
       "      <td>0</td>\n",
       "      <td>0</td>\n",
       "      <td>0</td>\n",
       "      <td>0</td>\n",
       "      <td>0</td>\n",
       "      <td>0</td>\n",
       "      <td>0</td>\n",
       "      <td>0</td>\n",
       "      <td>0</td>\n",
       "    </tr>\n",
       "    <tr>\n",
       "      <th>3</th>\n",
       "      <td>4</td>\n",
       "      <td>0</td>\n",
       "      <td>0</td>\n",
       "      <td>0</td>\n",
       "      <td>0</td>\n",
       "      <td>0</td>\n",
       "      <td>0</td>\n",
       "      <td>0</td>\n",
       "      <td>0</td>\n",
       "      <td>0</td>\n",
       "      <td>...</td>\n",
       "      <td>0</td>\n",
       "      <td>0</td>\n",
       "      <td>0</td>\n",
       "      <td>0</td>\n",
       "      <td>0</td>\n",
       "      <td>0</td>\n",
       "      <td>0</td>\n",
       "      <td>0</td>\n",
       "      <td>0</td>\n",
       "      <td>0</td>\n",
       "    </tr>\n",
       "    <tr>\n",
       "      <th>4</th>\n",
       "      <td>0</td>\n",
       "      <td>0</td>\n",
       "      <td>0</td>\n",
       "      <td>0</td>\n",
       "      <td>0</td>\n",
       "      <td>0</td>\n",
       "      <td>0</td>\n",
       "      <td>0</td>\n",
       "      <td>0</td>\n",
       "      <td>0</td>\n",
       "      <td>...</td>\n",
       "      <td>0</td>\n",
       "      <td>0</td>\n",
       "      <td>0</td>\n",
       "      <td>0</td>\n",
       "      <td>0</td>\n",
       "      <td>0</td>\n",
       "      <td>0</td>\n",
       "      <td>0</td>\n",
       "      <td>0</td>\n",
       "      <td>0</td>\n",
       "    </tr>\n",
       "  </tbody>\n",
       "</table>\n",
       "<p>5 rows × 785 columns</p>\n",
       "</div>"
      ],
      "text/plain": [
       "   label  pixel0  pixel1  pixel2  pixel3  pixel4  pixel5  pixel6  pixel7  \\\n",
       "0      1       0       0       0       0       0       0       0       0   \n",
       "1      0       0       0       0       0       0       0       0       0   \n",
       "2      1       0       0       0       0       0       0       0       0   \n",
       "3      4       0       0       0       0       0       0       0       0   \n",
       "4      0       0       0       0       0       0       0       0       0   \n",
       "\n",
       "   pixel8  ...  pixel774  pixel775  pixel776  pixel777  pixel778  pixel779  \\\n",
       "0       0  ...         0         0         0         0         0         0   \n",
       "1       0  ...         0         0         0         0         0         0   \n",
       "2       0  ...         0         0         0         0         0         0   \n",
       "3       0  ...         0         0         0         0         0         0   \n",
       "4       0  ...         0         0         0         0         0         0   \n",
       "\n",
       "   pixel780  pixel781  pixel782  pixel783  \n",
       "0         0         0         0         0  \n",
       "1         0         0         0         0  \n",
       "2         0         0         0         0  \n",
       "3         0         0         0         0  \n",
       "4         0         0         0         0  \n",
       "\n",
       "[5 rows x 785 columns]"
      ]
     },
     "execution_count": 3,
     "metadata": {},
     "output_type": "execute_result"
    }
   ],
   "source": [
    "train.head()"
   ]
  },
  {
   "cell_type": "code",
   "execution_count": 4,
   "id": "c07f0718",
   "metadata": {
    "execution": {
     "iopub.execute_input": "2022-07-28T22:17:34.286425Z",
     "iopub.status.busy": "2022-07-28T22:17:34.286012Z",
     "iopub.status.idle": "2022-07-28T22:17:34.303619Z",
     "shell.execute_reply": "2022-07-28T22:17:34.302775Z"
    },
    "papermill": {
     "duration": 0.037807,
     "end_time": "2022-07-28T22:17:34.305844",
     "exception": false,
     "start_time": "2022-07-28T22:17:34.268037",
     "status": "completed"
    },
    "tags": []
   },
   "outputs": [
    {
     "data": {
      "text/html": [
       "<div>\n",
       "<style scoped>\n",
       "    .dataframe tbody tr th:only-of-type {\n",
       "        vertical-align: middle;\n",
       "    }\n",
       "\n",
       "    .dataframe tbody tr th {\n",
       "        vertical-align: top;\n",
       "    }\n",
       "\n",
       "    .dataframe thead th {\n",
       "        text-align: right;\n",
       "    }\n",
       "</style>\n",
       "<table border=\"1\" class=\"dataframe\">\n",
       "  <thead>\n",
       "    <tr style=\"text-align: right;\">\n",
       "      <th></th>\n",
       "      <th>pixel0</th>\n",
       "      <th>pixel1</th>\n",
       "      <th>pixel2</th>\n",
       "      <th>pixel3</th>\n",
       "      <th>pixel4</th>\n",
       "      <th>pixel5</th>\n",
       "      <th>pixel6</th>\n",
       "      <th>pixel7</th>\n",
       "      <th>pixel8</th>\n",
       "      <th>pixel9</th>\n",
       "      <th>...</th>\n",
       "      <th>pixel774</th>\n",
       "      <th>pixel775</th>\n",
       "      <th>pixel776</th>\n",
       "      <th>pixel777</th>\n",
       "      <th>pixel778</th>\n",
       "      <th>pixel779</th>\n",
       "      <th>pixel780</th>\n",
       "      <th>pixel781</th>\n",
       "      <th>pixel782</th>\n",
       "      <th>pixel783</th>\n",
       "    </tr>\n",
       "  </thead>\n",
       "  <tbody>\n",
       "    <tr>\n",
       "      <th>0</th>\n",
       "      <td>0</td>\n",
       "      <td>0</td>\n",
       "      <td>0</td>\n",
       "      <td>0</td>\n",
       "      <td>0</td>\n",
       "      <td>0</td>\n",
       "      <td>0</td>\n",
       "      <td>0</td>\n",
       "      <td>0</td>\n",
       "      <td>0</td>\n",
       "      <td>...</td>\n",
       "      <td>0</td>\n",
       "      <td>0</td>\n",
       "      <td>0</td>\n",
       "      <td>0</td>\n",
       "      <td>0</td>\n",
       "      <td>0</td>\n",
       "      <td>0</td>\n",
       "      <td>0</td>\n",
       "      <td>0</td>\n",
       "      <td>0</td>\n",
       "    </tr>\n",
       "    <tr>\n",
       "      <th>1</th>\n",
       "      <td>0</td>\n",
       "      <td>0</td>\n",
       "      <td>0</td>\n",
       "      <td>0</td>\n",
       "      <td>0</td>\n",
       "      <td>0</td>\n",
       "      <td>0</td>\n",
       "      <td>0</td>\n",
       "      <td>0</td>\n",
       "      <td>0</td>\n",
       "      <td>...</td>\n",
       "      <td>0</td>\n",
       "      <td>0</td>\n",
       "      <td>0</td>\n",
       "      <td>0</td>\n",
       "      <td>0</td>\n",
       "      <td>0</td>\n",
       "      <td>0</td>\n",
       "      <td>0</td>\n",
       "      <td>0</td>\n",
       "      <td>0</td>\n",
       "    </tr>\n",
       "    <tr>\n",
       "      <th>2</th>\n",
       "      <td>0</td>\n",
       "      <td>0</td>\n",
       "      <td>0</td>\n",
       "      <td>0</td>\n",
       "      <td>0</td>\n",
       "      <td>0</td>\n",
       "      <td>0</td>\n",
       "      <td>0</td>\n",
       "      <td>0</td>\n",
       "      <td>0</td>\n",
       "      <td>...</td>\n",
       "      <td>0</td>\n",
       "      <td>0</td>\n",
       "      <td>0</td>\n",
       "      <td>0</td>\n",
       "      <td>0</td>\n",
       "      <td>0</td>\n",
       "      <td>0</td>\n",
       "      <td>0</td>\n",
       "      <td>0</td>\n",
       "      <td>0</td>\n",
       "    </tr>\n",
       "    <tr>\n",
       "      <th>3</th>\n",
       "      <td>0</td>\n",
       "      <td>0</td>\n",
       "      <td>0</td>\n",
       "      <td>0</td>\n",
       "      <td>0</td>\n",
       "      <td>0</td>\n",
       "      <td>0</td>\n",
       "      <td>0</td>\n",
       "      <td>0</td>\n",
       "      <td>0</td>\n",
       "      <td>...</td>\n",
       "      <td>0</td>\n",
       "      <td>0</td>\n",
       "      <td>0</td>\n",
       "      <td>0</td>\n",
       "      <td>0</td>\n",
       "      <td>0</td>\n",
       "      <td>0</td>\n",
       "      <td>0</td>\n",
       "      <td>0</td>\n",
       "      <td>0</td>\n",
       "    </tr>\n",
       "    <tr>\n",
       "      <th>4</th>\n",
       "      <td>0</td>\n",
       "      <td>0</td>\n",
       "      <td>0</td>\n",
       "      <td>0</td>\n",
       "      <td>0</td>\n",
       "      <td>0</td>\n",
       "      <td>0</td>\n",
       "      <td>0</td>\n",
       "      <td>0</td>\n",
       "      <td>0</td>\n",
       "      <td>...</td>\n",
       "      <td>0</td>\n",
       "      <td>0</td>\n",
       "      <td>0</td>\n",
       "      <td>0</td>\n",
       "      <td>0</td>\n",
       "      <td>0</td>\n",
       "      <td>0</td>\n",
       "      <td>0</td>\n",
       "      <td>0</td>\n",
       "      <td>0</td>\n",
       "    </tr>\n",
       "  </tbody>\n",
       "</table>\n",
       "<p>5 rows × 784 columns</p>\n",
       "</div>"
      ],
      "text/plain": [
       "   pixel0  pixel1  pixel2  pixel3  pixel4  pixel5  pixel6  pixel7  pixel8  \\\n",
       "0       0       0       0       0       0       0       0       0       0   \n",
       "1       0       0       0       0       0       0       0       0       0   \n",
       "2       0       0       0       0       0       0       0       0       0   \n",
       "3       0       0       0       0       0       0       0       0       0   \n",
       "4       0       0       0       0       0       0       0       0       0   \n",
       "\n",
       "   pixel9  ...  pixel774  pixel775  pixel776  pixel777  pixel778  pixel779  \\\n",
       "0       0  ...         0         0         0         0         0         0   \n",
       "1       0  ...         0         0         0         0         0         0   \n",
       "2       0  ...         0         0         0         0         0         0   \n",
       "3       0  ...         0         0         0         0         0         0   \n",
       "4       0  ...         0         0         0         0         0         0   \n",
       "\n",
       "   pixel780  pixel781  pixel782  pixel783  \n",
       "0         0         0         0         0  \n",
       "1         0         0         0         0  \n",
       "2         0         0         0         0  \n",
       "3         0         0         0         0  \n",
       "4         0         0         0         0  \n",
       "\n",
       "[5 rows x 784 columns]"
      ]
     },
     "execution_count": 4,
     "metadata": {},
     "output_type": "execute_result"
    }
   ],
   "source": [
    "test.head()"
   ]
  },
  {
   "cell_type": "code",
   "execution_count": 5,
   "id": "eb9a52f2",
   "metadata": {
    "execution": {
     "iopub.execute_input": "2022-07-28T22:17:34.338959Z",
     "iopub.status.busy": "2022-07-28T22:17:34.338229Z",
     "iopub.status.idle": "2022-07-28T22:17:34.346789Z",
     "shell.execute_reply": "2022-07-28T22:17:34.346006Z"
    },
    "papermill": {
     "duration": 0.02738,
     "end_time": "2022-07-28T22:17:34.348787",
     "exception": false,
     "start_time": "2022-07-28T22:17:34.321407",
     "status": "completed"
    },
    "tags": []
   },
   "outputs": [
    {
     "data": {
      "text/html": [
       "<div>\n",
       "<style scoped>\n",
       "    .dataframe tbody tr th:only-of-type {\n",
       "        vertical-align: middle;\n",
       "    }\n",
       "\n",
       "    .dataframe tbody tr th {\n",
       "        vertical-align: top;\n",
       "    }\n",
       "\n",
       "    .dataframe thead th {\n",
       "        text-align: right;\n",
       "    }\n",
       "</style>\n",
       "<table border=\"1\" class=\"dataframe\">\n",
       "  <thead>\n",
       "    <tr style=\"text-align: right;\">\n",
       "      <th></th>\n",
       "      <th>ImageId</th>\n",
       "      <th>Label</th>\n",
       "    </tr>\n",
       "  </thead>\n",
       "  <tbody>\n",
       "    <tr>\n",
       "      <th>0</th>\n",
       "      <td>1</td>\n",
       "      <td>0</td>\n",
       "    </tr>\n",
       "    <tr>\n",
       "      <th>1</th>\n",
       "      <td>2</td>\n",
       "      <td>0</td>\n",
       "    </tr>\n",
       "    <tr>\n",
       "      <th>2</th>\n",
       "      <td>3</td>\n",
       "      <td>0</td>\n",
       "    </tr>\n",
       "    <tr>\n",
       "      <th>3</th>\n",
       "      <td>4</td>\n",
       "      <td>0</td>\n",
       "    </tr>\n",
       "    <tr>\n",
       "      <th>4</th>\n",
       "      <td>5</td>\n",
       "      <td>0</td>\n",
       "    </tr>\n",
       "  </tbody>\n",
       "</table>\n",
       "</div>"
      ],
      "text/plain": [
       "   ImageId  Label\n",
       "0        1      0\n",
       "1        2      0\n",
       "2        3      0\n",
       "3        4      0\n",
       "4        5      0"
      ]
     },
     "execution_count": 5,
     "metadata": {},
     "output_type": "execute_result"
    }
   ],
   "source": [
    "sample.head()"
   ]
  },
  {
   "cell_type": "code",
   "execution_count": 6,
   "id": "ff4edce8",
   "metadata": {
    "execution": {
     "iopub.execute_input": "2022-07-28T22:17:34.381956Z",
     "iopub.status.busy": "2022-07-28T22:17:34.381258Z",
     "iopub.status.idle": "2022-07-28T22:17:34.386466Z",
     "shell.execute_reply": "2022-07-28T22:17:34.385327Z"
    },
    "papermill": {
     "duration": 0.024439,
     "end_time": "2022-07-28T22:17:34.389028",
     "exception": false,
     "start_time": "2022-07-28T22:17:34.364589",
     "status": "completed"
    },
    "tags": []
   },
   "outputs": [
    {
     "name": "stdout",
     "output_type": "stream",
     "text": [
      "Data is ready\n"
     ]
    }
   ],
   "source": [
    "print(\"Data is ready\")"
   ]
  },
  {
   "cell_type": "code",
   "execution_count": 7,
   "id": "c61e8f7b",
   "metadata": {
    "execution": {
     "iopub.execute_input": "2022-07-28T22:17:34.422812Z",
     "iopub.status.busy": "2022-07-28T22:17:34.421518Z",
     "iopub.status.idle": "2022-07-28T22:17:36.749239Z",
     "shell.execute_reply": "2022-07-28T22:17:36.747870Z"
    },
    "papermill": {
     "duration": 2.347309,
     "end_time": "2022-07-28T22:17:36.751931",
     "exception": false,
     "start_time": "2022-07-28T22:17:34.404622",
     "status": "completed"
    },
    "tags": []
   },
   "outputs": [
    {
     "data": {
      "text/html": [
       "<div>\n",
       "<style scoped>\n",
       "    .dataframe tbody tr th:only-of-type {\n",
       "        vertical-align: middle;\n",
       "    }\n",
       "\n",
       "    .dataframe tbody tr th {\n",
       "        vertical-align: top;\n",
       "    }\n",
       "\n",
       "    .dataframe thead th {\n",
       "        text-align: right;\n",
       "    }\n",
       "</style>\n",
       "<table border=\"1\" class=\"dataframe\">\n",
       "  <thead>\n",
       "    <tr style=\"text-align: right;\">\n",
       "      <th></th>\n",
       "      <th>label</th>\n",
       "      <th>pixel0</th>\n",
       "      <th>pixel1</th>\n",
       "      <th>pixel2</th>\n",
       "      <th>pixel3</th>\n",
       "      <th>pixel4</th>\n",
       "      <th>pixel5</th>\n",
       "      <th>pixel6</th>\n",
       "      <th>pixel7</th>\n",
       "      <th>pixel8</th>\n",
       "      <th>...</th>\n",
       "      <th>pixel774</th>\n",
       "      <th>pixel775</th>\n",
       "      <th>pixel776</th>\n",
       "      <th>pixel777</th>\n",
       "      <th>pixel778</th>\n",
       "      <th>pixel779</th>\n",
       "      <th>pixel780</th>\n",
       "      <th>pixel781</th>\n",
       "      <th>pixel782</th>\n",
       "      <th>pixel783</th>\n",
       "    </tr>\n",
       "  </thead>\n",
       "  <tbody>\n",
       "    <tr>\n",
       "      <th>count</th>\n",
       "      <td>42000.000000</td>\n",
       "      <td>42000.0</td>\n",
       "      <td>42000.0</td>\n",
       "      <td>42000.0</td>\n",
       "      <td>42000.0</td>\n",
       "      <td>42000.0</td>\n",
       "      <td>42000.0</td>\n",
       "      <td>42000.0</td>\n",
       "      <td>42000.0</td>\n",
       "      <td>42000.0</td>\n",
       "      <td>...</td>\n",
       "      <td>42000.000000</td>\n",
       "      <td>42000.000000</td>\n",
       "      <td>42000.000000</td>\n",
       "      <td>42000.00000</td>\n",
       "      <td>42000.000000</td>\n",
       "      <td>42000.000000</td>\n",
       "      <td>42000.0</td>\n",
       "      <td>42000.0</td>\n",
       "      <td>42000.0</td>\n",
       "      <td>42000.0</td>\n",
       "    </tr>\n",
       "    <tr>\n",
       "      <th>mean</th>\n",
       "      <td>4.456643</td>\n",
       "      <td>0.0</td>\n",
       "      <td>0.0</td>\n",
       "      <td>0.0</td>\n",
       "      <td>0.0</td>\n",
       "      <td>0.0</td>\n",
       "      <td>0.0</td>\n",
       "      <td>0.0</td>\n",
       "      <td>0.0</td>\n",
       "      <td>0.0</td>\n",
       "      <td>...</td>\n",
       "      <td>0.219286</td>\n",
       "      <td>0.117095</td>\n",
       "      <td>0.059024</td>\n",
       "      <td>0.02019</td>\n",
       "      <td>0.017238</td>\n",
       "      <td>0.002857</td>\n",
       "      <td>0.0</td>\n",
       "      <td>0.0</td>\n",
       "      <td>0.0</td>\n",
       "      <td>0.0</td>\n",
       "    </tr>\n",
       "    <tr>\n",
       "      <th>std</th>\n",
       "      <td>2.887730</td>\n",
       "      <td>0.0</td>\n",
       "      <td>0.0</td>\n",
       "      <td>0.0</td>\n",
       "      <td>0.0</td>\n",
       "      <td>0.0</td>\n",
       "      <td>0.0</td>\n",
       "      <td>0.0</td>\n",
       "      <td>0.0</td>\n",
       "      <td>0.0</td>\n",
       "      <td>...</td>\n",
       "      <td>6.312890</td>\n",
       "      <td>4.633819</td>\n",
       "      <td>3.274488</td>\n",
       "      <td>1.75987</td>\n",
       "      <td>1.894498</td>\n",
       "      <td>0.414264</td>\n",
       "      <td>0.0</td>\n",
       "      <td>0.0</td>\n",
       "      <td>0.0</td>\n",
       "      <td>0.0</td>\n",
       "    </tr>\n",
       "    <tr>\n",
       "      <th>min</th>\n",
       "      <td>0.000000</td>\n",
       "      <td>0.0</td>\n",
       "      <td>0.0</td>\n",
       "      <td>0.0</td>\n",
       "      <td>0.0</td>\n",
       "      <td>0.0</td>\n",
       "      <td>0.0</td>\n",
       "      <td>0.0</td>\n",
       "      <td>0.0</td>\n",
       "      <td>0.0</td>\n",
       "      <td>...</td>\n",
       "      <td>0.000000</td>\n",
       "      <td>0.000000</td>\n",
       "      <td>0.000000</td>\n",
       "      <td>0.00000</td>\n",
       "      <td>0.000000</td>\n",
       "      <td>0.000000</td>\n",
       "      <td>0.0</td>\n",
       "      <td>0.0</td>\n",
       "      <td>0.0</td>\n",
       "      <td>0.0</td>\n",
       "    </tr>\n",
       "    <tr>\n",
       "      <th>25%</th>\n",
       "      <td>2.000000</td>\n",
       "      <td>0.0</td>\n",
       "      <td>0.0</td>\n",
       "      <td>0.0</td>\n",
       "      <td>0.0</td>\n",
       "      <td>0.0</td>\n",
       "      <td>0.0</td>\n",
       "      <td>0.0</td>\n",
       "      <td>0.0</td>\n",
       "      <td>0.0</td>\n",
       "      <td>...</td>\n",
       "      <td>0.000000</td>\n",
       "      <td>0.000000</td>\n",
       "      <td>0.000000</td>\n",
       "      <td>0.00000</td>\n",
       "      <td>0.000000</td>\n",
       "      <td>0.000000</td>\n",
       "      <td>0.0</td>\n",
       "      <td>0.0</td>\n",
       "      <td>0.0</td>\n",
       "      <td>0.0</td>\n",
       "    </tr>\n",
       "    <tr>\n",
       "      <th>50%</th>\n",
       "      <td>4.000000</td>\n",
       "      <td>0.0</td>\n",
       "      <td>0.0</td>\n",
       "      <td>0.0</td>\n",
       "      <td>0.0</td>\n",
       "      <td>0.0</td>\n",
       "      <td>0.0</td>\n",
       "      <td>0.0</td>\n",
       "      <td>0.0</td>\n",
       "      <td>0.0</td>\n",
       "      <td>...</td>\n",
       "      <td>0.000000</td>\n",
       "      <td>0.000000</td>\n",
       "      <td>0.000000</td>\n",
       "      <td>0.00000</td>\n",
       "      <td>0.000000</td>\n",
       "      <td>0.000000</td>\n",
       "      <td>0.0</td>\n",
       "      <td>0.0</td>\n",
       "      <td>0.0</td>\n",
       "      <td>0.0</td>\n",
       "    </tr>\n",
       "    <tr>\n",
       "      <th>75%</th>\n",
       "      <td>7.000000</td>\n",
       "      <td>0.0</td>\n",
       "      <td>0.0</td>\n",
       "      <td>0.0</td>\n",
       "      <td>0.0</td>\n",
       "      <td>0.0</td>\n",
       "      <td>0.0</td>\n",
       "      <td>0.0</td>\n",
       "      <td>0.0</td>\n",
       "      <td>0.0</td>\n",
       "      <td>...</td>\n",
       "      <td>0.000000</td>\n",
       "      <td>0.000000</td>\n",
       "      <td>0.000000</td>\n",
       "      <td>0.00000</td>\n",
       "      <td>0.000000</td>\n",
       "      <td>0.000000</td>\n",
       "      <td>0.0</td>\n",
       "      <td>0.0</td>\n",
       "      <td>0.0</td>\n",
       "      <td>0.0</td>\n",
       "    </tr>\n",
       "    <tr>\n",
       "      <th>max</th>\n",
       "      <td>9.000000</td>\n",
       "      <td>0.0</td>\n",
       "      <td>0.0</td>\n",
       "      <td>0.0</td>\n",
       "      <td>0.0</td>\n",
       "      <td>0.0</td>\n",
       "      <td>0.0</td>\n",
       "      <td>0.0</td>\n",
       "      <td>0.0</td>\n",
       "      <td>0.0</td>\n",
       "      <td>...</td>\n",
       "      <td>254.000000</td>\n",
       "      <td>254.000000</td>\n",
       "      <td>253.000000</td>\n",
       "      <td>253.00000</td>\n",
       "      <td>254.000000</td>\n",
       "      <td>62.000000</td>\n",
       "      <td>0.0</td>\n",
       "      <td>0.0</td>\n",
       "      <td>0.0</td>\n",
       "      <td>0.0</td>\n",
       "    </tr>\n",
       "  </tbody>\n",
       "</table>\n",
       "<p>8 rows × 785 columns</p>\n",
       "</div>"
      ],
      "text/plain": [
       "              label   pixel0   pixel1   pixel2   pixel3   pixel4   pixel5  \\\n",
       "count  42000.000000  42000.0  42000.0  42000.0  42000.0  42000.0  42000.0   \n",
       "mean       4.456643      0.0      0.0      0.0      0.0      0.0      0.0   \n",
       "std        2.887730      0.0      0.0      0.0      0.0      0.0      0.0   \n",
       "min        0.000000      0.0      0.0      0.0      0.0      0.0      0.0   \n",
       "25%        2.000000      0.0      0.0      0.0      0.0      0.0      0.0   \n",
       "50%        4.000000      0.0      0.0      0.0      0.0      0.0      0.0   \n",
       "75%        7.000000      0.0      0.0      0.0      0.0      0.0      0.0   \n",
       "max        9.000000      0.0      0.0      0.0      0.0      0.0      0.0   \n",
       "\n",
       "        pixel6   pixel7   pixel8  ...      pixel774      pixel775  \\\n",
       "count  42000.0  42000.0  42000.0  ...  42000.000000  42000.000000   \n",
       "mean       0.0      0.0      0.0  ...      0.219286      0.117095   \n",
       "std        0.0      0.0      0.0  ...      6.312890      4.633819   \n",
       "min        0.0      0.0      0.0  ...      0.000000      0.000000   \n",
       "25%        0.0      0.0      0.0  ...      0.000000      0.000000   \n",
       "50%        0.0      0.0      0.0  ...      0.000000      0.000000   \n",
       "75%        0.0      0.0      0.0  ...      0.000000      0.000000   \n",
       "max        0.0      0.0      0.0  ...    254.000000    254.000000   \n",
       "\n",
       "           pixel776     pixel777      pixel778      pixel779  pixel780  \\\n",
       "count  42000.000000  42000.00000  42000.000000  42000.000000   42000.0   \n",
       "mean       0.059024      0.02019      0.017238      0.002857       0.0   \n",
       "std        3.274488      1.75987      1.894498      0.414264       0.0   \n",
       "min        0.000000      0.00000      0.000000      0.000000       0.0   \n",
       "25%        0.000000      0.00000      0.000000      0.000000       0.0   \n",
       "50%        0.000000      0.00000      0.000000      0.000000       0.0   \n",
       "75%        0.000000      0.00000      0.000000      0.000000       0.0   \n",
       "max      253.000000    253.00000    254.000000     62.000000       0.0   \n",
       "\n",
       "       pixel781  pixel782  pixel783  \n",
       "count   42000.0   42000.0   42000.0  \n",
       "mean        0.0       0.0       0.0  \n",
       "std         0.0       0.0       0.0  \n",
       "min         0.0       0.0       0.0  \n",
       "25%         0.0       0.0       0.0  \n",
       "50%         0.0       0.0       0.0  \n",
       "75%         0.0       0.0       0.0  \n",
       "max         0.0       0.0       0.0  \n",
       "\n",
       "[8 rows x 785 columns]"
      ]
     },
     "execution_count": 7,
     "metadata": {},
     "output_type": "execute_result"
    }
   ],
   "source": [
    "train.describe()"
   ]
  },
  {
   "cell_type": "code",
   "execution_count": 8,
   "id": "860c93b1",
   "metadata": {
    "execution": {
     "iopub.execute_input": "2022-07-28T22:17:36.786415Z",
     "iopub.status.busy": "2022-07-28T22:17:36.785986Z",
     "iopub.status.idle": "2022-07-28T22:17:36.792669Z",
     "shell.execute_reply": "2022-07-28T22:17:36.791471Z"
    },
    "papermill": {
     "duration": 0.02687,
     "end_time": "2022-07-28T22:17:36.795284",
     "exception": false,
     "start_time": "2022-07-28T22:17:36.768414",
     "status": "completed"
    },
    "tags": []
   },
   "outputs": [
    {
     "name": "stdout",
     "output_type": "stream",
     "text": [
      "train data size is :(42000, 785)\n",
      "test data size is :(28000, 784)\n"
     ]
    }
   ],
   "source": [
    "print(\"train data size is :\"+ str(train.shape))\n",
    "print(\"test data size is :\"+ str(test.shape))"
   ]
  },
  {
   "cell_type": "markdown",
   "id": "38a7f7b0",
   "metadata": {
    "papermill": {
     "duration": 0.016044,
     "end_time": "2022-07-28T22:17:36.827814",
     "exception": false,
     "start_time": "2022-07-28T22:17:36.811770",
     "status": "completed"
    },
    "tags": []
   },
   "source": [
    "Data Preparation :"
   ]
  },
  {
   "cell_type": "markdown",
   "id": "3fdadb55",
   "metadata": {
    "papermill": {
     "duration": 0.016075,
     "end_time": "2022-07-28T22:17:36.860898",
     "exception": false,
     "start_time": "2022-07-28T22:17:36.844823",
     "status": "completed"
    },
    "tags": []
   },
   "source": [
    "# splitting train data set into y that represents the target label , and x that represents the training examples."
   ]
  },
  {
   "cell_type": "code",
   "execution_count": 9,
   "id": "051ce7da",
   "metadata": {
    "execution": {
     "iopub.execute_input": "2022-07-28T22:17:36.897153Z",
     "iopub.status.busy": "2022-07-28T22:17:36.895835Z",
     "iopub.status.idle": "2022-07-28T22:17:36.984392Z",
     "shell.execute_reply": "2022-07-28T22:17:36.983260Z"
    },
    "papermill": {
     "duration": 0.109387,
     "end_time": "2022-07-28T22:17:36.987197",
     "exception": false,
     "start_time": "2022-07-28T22:17:36.877810",
     "status": "completed"
    },
    "tags": []
   },
   "outputs": [],
   "source": [
    "y=train['label']\n",
    "x=train.drop('label',axis='columns')"
   ]
  },
  {
   "cell_type": "code",
   "execution_count": 10,
   "id": "2628a743",
   "metadata": {
    "execution": {
     "iopub.execute_input": "2022-07-28T22:17:37.021649Z",
     "iopub.status.busy": "2022-07-28T22:17:37.021250Z",
     "iopub.status.idle": "2022-07-28T22:17:37.042424Z",
     "shell.execute_reply": "2022-07-28T22:17:37.041136Z"
    },
    "papermill": {
     "duration": 0.041504,
     "end_time": "2022-07-28T22:17:37.045152",
     "exception": false,
     "start_time": "2022-07-28T22:17:37.003648",
     "status": "completed"
    },
    "tags": []
   },
   "outputs": [
    {
     "data": {
      "text/html": [
       "<div>\n",
       "<style scoped>\n",
       "    .dataframe tbody tr th:only-of-type {\n",
       "        vertical-align: middle;\n",
       "    }\n",
       "\n",
       "    .dataframe tbody tr th {\n",
       "        vertical-align: top;\n",
       "    }\n",
       "\n",
       "    .dataframe thead th {\n",
       "        text-align: right;\n",
       "    }\n",
       "</style>\n",
       "<table border=\"1\" class=\"dataframe\">\n",
       "  <thead>\n",
       "    <tr style=\"text-align: right;\">\n",
       "      <th></th>\n",
       "      <th>pixel0</th>\n",
       "      <th>pixel1</th>\n",
       "      <th>pixel2</th>\n",
       "      <th>pixel3</th>\n",
       "      <th>pixel4</th>\n",
       "      <th>pixel5</th>\n",
       "      <th>pixel6</th>\n",
       "      <th>pixel7</th>\n",
       "      <th>pixel8</th>\n",
       "      <th>pixel9</th>\n",
       "      <th>...</th>\n",
       "      <th>pixel774</th>\n",
       "      <th>pixel775</th>\n",
       "      <th>pixel776</th>\n",
       "      <th>pixel777</th>\n",
       "      <th>pixel778</th>\n",
       "      <th>pixel779</th>\n",
       "      <th>pixel780</th>\n",
       "      <th>pixel781</th>\n",
       "      <th>pixel782</th>\n",
       "      <th>pixel783</th>\n",
       "    </tr>\n",
       "  </thead>\n",
       "  <tbody>\n",
       "    <tr>\n",
       "      <th>0</th>\n",
       "      <td>0</td>\n",
       "      <td>0</td>\n",
       "      <td>0</td>\n",
       "      <td>0</td>\n",
       "      <td>0</td>\n",
       "      <td>0</td>\n",
       "      <td>0</td>\n",
       "      <td>0</td>\n",
       "      <td>0</td>\n",
       "      <td>0</td>\n",
       "      <td>...</td>\n",
       "      <td>0</td>\n",
       "      <td>0</td>\n",
       "      <td>0</td>\n",
       "      <td>0</td>\n",
       "      <td>0</td>\n",
       "      <td>0</td>\n",
       "      <td>0</td>\n",
       "      <td>0</td>\n",
       "      <td>0</td>\n",
       "      <td>0</td>\n",
       "    </tr>\n",
       "    <tr>\n",
       "      <th>1</th>\n",
       "      <td>0</td>\n",
       "      <td>0</td>\n",
       "      <td>0</td>\n",
       "      <td>0</td>\n",
       "      <td>0</td>\n",
       "      <td>0</td>\n",
       "      <td>0</td>\n",
       "      <td>0</td>\n",
       "      <td>0</td>\n",
       "      <td>0</td>\n",
       "      <td>...</td>\n",
       "      <td>0</td>\n",
       "      <td>0</td>\n",
       "      <td>0</td>\n",
       "      <td>0</td>\n",
       "      <td>0</td>\n",
       "      <td>0</td>\n",
       "      <td>0</td>\n",
       "      <td>0</td>\n",
       "      <td>0</td>\n",
       "      <td>0</td>\n",
       "    </tr>\n",
       "    <tr>\n",
       "      <th>2</th>\n",
       "      <td>0</td>\n",
       "      <td>0</td>\n",
       "      <td>0</td>\n",
       "      <td>0</td>\n",
       "      <td>0</td>\n",
       "      <td>0</td>\n",
       "      <td>0</td>\n",
       "      <td>0</td>\n",
       "      <td>0</td>\n",
       "      <td>0</td>\n",
       "      <td>...</td>\n",
       "      <td>0</td>\n",
       "      <td>0</td>\n",
       "      <td>0</td>\n",
       "      <td>0</td>\n",
       "      <td>0</td>\n",
       "      <td>0</td>\n",
       "      <td>0</td>\n",
       "      <td>0</td>\n",
       "      <td>0</td>\n",
       "      <td>0</td>\n",
       "    </tr>\n",
       "    <tr>\n",
       "      <th>3</th>\n",
       "      <td>0</td>\n",
       "      <td>0</td>\n",
       "      <td>0</td>\n",
       "      <td>0</td>\n",
       "      <td>0</td>\n",
       "      <td>0</td>\n",
       "      <td>0</td>\n",
       "      <td>0</td>\n",
       "      <td>0</td>\n",
       "      <td>0</td>\n",
       "      <td>...</td>\n",
       "      <td>0</td>\n",
       "      <td>0</td>\n",
       "      <td>0</td>\n",
       "      <td>0</td>\n",
       "      <td>0</td>\n",
       "      <td>0</td>\n",
       "      <td>0</td>\n",
       "      <td>0</td>\n",
       "      <td>0</td>\n",
       "      <td>0</td>\n",
       "    </tr>\n",
       "    <tr>\n",
       "      <th>4</th>\n",
       "      <td>0</td>\n",
       "      <td>0</td>\n",
       "      <td>0</td>\n",
       "      <td>0</td>\n",
       "      <td>0</td>\n",
       "      <td>0</td>\n",
       "      <td>0</td>\n",
       "      <td>0</td>\n",
       "      <td>0</td>\n",
       "      <td>0</td>\n",
       "      <td>...</td>\n",
       "      <td>0</td>\n",
       "      <td>0</td>\n",
       "      <td>0</td>\n",
       "      <td>0</td>\n",
       "      <td>0</td>\n",
       "      <td>0</td>\n",
       "      <td>0</td>\n",
       "      <td>0</td>\n",
       "      <td>0</td>\n",
       "      <td>0</td>\n",
       "    </tr>\n",
       "  </tbody>\n",
       "</table>\n",
       "<p>5 rows × 784 columns</p>\n",
       "</div>"
      ],
      "text/plain": [
       "   pixel0  pixel1  pixel2  pixel3  pixel4  pixel5  pixel6  pixel7  pixel8  \\\n",
       "0       0       0       0       0       0       0       0       0       0   \n",
       "1       0       0       0       0       0       0       0       0       0   \n",
       "2       0       0       0       0       0       0       0       0       0   \n",
       "3       0       0       0       0       0       0       0       0       0   \n",
       "4       0       0       0       0       0       0       0       0       0   \n",
       "\n",
       "   pixel9  ...  pixel774  pixel775  pixel776  pixel777  pixel778  pixel779  \\\n",
       "0       0  ...         0         0         0         0         0         0   \n",
       "1       0  ...         0         0         0         0         0         0   \n",
       "2       0  ...         0         0         0         0         0         0   \n",
       "3       0  ...         0         0         0         0         0         0   \n",
       "4       0  ...         0         0         0         0         0         0   \n",
       "\n",
       "   pixel780  pixel781  pixel782  pixel783  \n",
       "0         0         0         0         0  \n",
       "1         0         0         0         0  \n",
       "2         0         0         0         0  \n",
       "3         0         0         0         0  \n",
       "4         0         0         0         0  \n",
       "\n",
       "[5 rows x 784 columns]"
      ]
     },
     "execution_count": 10,
     "metadata": {},
     "output_type": "execute_result"
    }
   ],
   "source": [
    "x.head()"
   ]
  },
  {
   "cell_type": "code",
   "execution_count": 11,
   "id": "dce02749",
   "metadata": {
    "execution": {
     "iopub.execute_input": "2022-07-28T22:17:37.080709Z",
     "iopub.status.busy": "2022-07-28T22:17:37.080305Z",
     "iopub.status.idle": "2022-07-28T22:17:37.253843Z",
     "shell.execute_reply": "2022-07-28T22:17:37.252531Z"
    },
    "papermill": {
     "duration": 0.19438,
     "end_time": "2022-07-28T22:17:37.256220",
     "exception": false,
     "start_time": "2022-07-28T22:17:37.061840",
     "status": "completed"
    },
    "tags": []
   },
   "outputs": [
    {
     "name": "stdout",
     "output_type": "stream",
     "text": [
      "1\n"
     ]
    },
    {
     "data": {
      "image/png": "[encoded data removed]",
      "text/plain": [
       "<Figure size 360x360 with 1 Axes>"
      ]
     },
     "metadata": {
      "needs_background": "light"
     },
     "output_type": "display_data"
    }
   ],
   "source": [
    "# lets display some digit from the data set \n",
    "\n",
    "plt.figure(figsize=(5,5))\n",
    "some_digit=140\n",
    "some_digit_image = x.iloc[some_digit].to_numpy().reshape(28, 28)\n",
    "plt.imshow(np.reshape(some_digit_image, (28,28)), cmap=plt.cm.gray)\n",
    "print(y[some_digit])"
   ]
  },
  {
   "cell_type": "code",
   "execution_count": 12,
   "id": "32daeed1",
   "metadata": {
    "execution": {
     "iopub.execute_input": "2022-07-28T22:17:37.293188Z",
     "iopub.status.busy": "2022-07-28T22:17:37.292095Z",
     "iopub.status.idle": "2022-07-28T22:17:37.299695Z",
     "shell.execute_reply": "2022-07-28T22:17:37.298535Z"
    },
    "papermill": {
     "duration": 0.028976,
     "end_time": "2022-07-28T22:17:37.302454",
     "exception": false,
     "start_time": "2022-07-28T22:17:37.273478",
     "status": "completed"
    },
    "tags": []
   },
   "outputs": [],
   "source": [
    "#Display a group of digits\n",
    "\n",
    "def print_image(row, df):\n",
    "    temp=df.iloc[row,:].values\n",
    "    temp = temp.reshape(28,28).astype('uint8')\n",
    "    plt.imshow(temp)"
   ]
  },
  {
   "cell_type": "code",
   "execution_count": 13,
   "id": "be140563",
   "metadata": {
    "execution": {
     "iopub.execute_input": "2022-07-28T22:17:37.338934Z",
     "iopub.status.busy": "2022-07-28T22:17:37.338181Z",
     "iopub.status.idle": "2022-07-28T22:17:39.738801Z",
     "shell.execute_reply": "2022-07-28T22:17:39.737835Z"
    },
    "papermill": {
     "duration": 2.422829,
     "end_time": "2022-07-28T22:17:39.742185",
     "exception": false,
     "start_time": "2022-07-28T22:17:37.319356",
     "status": "completed"
    },
    "tags": []
   },
   "outputs": [
    {
     "data": {
      "image/png": "[encoded data removed]",
      "text/plain": [
       "<Figure size 720x720 with 30 Axes>"
      ]
     },
     "metadata": {
      "needs_background": "light"
     },
     "output_type": "display_data"
    }
   ],
   "source": [
    "plt.figure(figsize=(10,10))\n",
    "for i in range(30):\n",
    "    plt.subplot(5, 6, i+1)\n",
    "    print_image(i, test)"
   ]
  },
  {
   "cell_type": "code",
   "execution_count": 14,
   "id": "9d2aa5aa",
   "metadata": {
    "execution": {
     "iopub.execute_input": "2022-07-28T22:17:39.783172Z",
     "iopub.status.busy": "2022-07-28T22:17:39.782725Z",
     "iopub.status.idle": "2022-07-28T22:17:39.987457Z",
     "shell.execute_reply": "2022-07-28T22:17:39.986298Z"
    },
    "papermill": {
     "duration": 0.228582,
     "end_time": "2022-07-28T22:17:39.990442",
     "exception": false,
     "start_time": "2022-07-28T22:17:39.761860",
     "status": "completed"
    },
    "tags": []
   },
   "outputs": [
    {
     "name": "stderr",
     "output_type": "stream",
     "text": [
      "/opt/conda/lib/python3.7/site-packages/seaborn/_decorators.py:43: FutureWarning: Pass the following variable as a keyword arg: x. From version 0.12, the only valid positional argument will be `data`, and passing other arguments without an explicit keyword will result in an error or misinterpretation.\n",
      "  FutureWarning\n"
     ]
    },
    {
     "data": {
      "text/plain": [
       "<AxesSubplot:xlabel='label', ylabel='count'>"
      ]
     },
     "execution_count": 14,
     "metadata": {},
     "output_type": "execute_result"
    },
    {
     "data": {
      "image/png": "[encoded data removed]",
      "text/plain": [
       "<Figure size 432x288 with 1 Axes>"
      ]
     },
     "metadata": {
      "needs_background": "light"
     },
     "output_type": "display_data"
    }
   ],
   "source": [
    "# Check that the data is balanced :\n",
    "sns.countplot(train['label'])"
   ]
  },
  {
   "cell_type": "code",
   "execution_count": 15,
   "id": "c1a2cef4",
   "metadata": {
    "execution": {
     "iopub.execute_input": "2022-07-28T22:17:40.032165Z",
     "iopub.status.busy": "2022-07-28T22:17:40.031743Z",
     "iopub.status.idle": "2022-07-28T22:17:40.042092Z",
     "shell.execute_reply": "2022-07-28T22:17:40.040875Z"
    },
    "papermill": {
     "duration": 0.033995,
     "end_time": "2022-07-28T22:17:40.044744",
     "exception": false,
     "start_time": "2022-07-28T22:17:40.010749",
     "status": "completed"
    },
    "tags": []
   },
   "outputs": [
    {
     "data": {
      "text/plain": [
       "1    4684\n",
       "7    4401\n",
       "3    4351\n",
       "9    4188\n",
       "2    4177\n",
       "6    4137\n",
       "0    4132\n",
       "4    4072\n",
       "8    4063\n",
       "5    3795\n",
       "Name: label, dtype: int64"
      ]
     },
     "execution_count": 15,
     "metadata": {},
     "output_type": "execute_result"
    }
   ],
   "source": [
    "train['label'].value_counts()"
   ]
  },
  {
   "cell_type": "code",
   "execution_count": 16,
   "id": "e1362309",
   "metadata": {
    "execution": {
     "iopub.execute_input": "2022-07-28T22:17:40.087247Z",
     "iopub.status.busy": "2022-07-28T22:17:40.086821Z",
     "iopub.status.idle": "2022-07-28T22:17:40.379556Z",
     "shell.execute_reply": "2022-07-28T22:17:40.378396Z"
    },
    "papermill": {
     "duration": 0.317205,
     "end_time": "2022-07-28T22:17:40.382512",
     "exception": false,
     "start_time": "2022-07-28T22:17:40.065307",
     "status": "completed"
    },
    "tags": []
   },
   "outputs": [],
   "source": [
    "# train test split :\n",
    "from sklearn.model_selection import  train_test_split\n",
    "x_train, x_test, y_train, y_test = train_test_split(x, y, test_size = 0.30, random_state = 42)"
   ]
  },
  {
   "cell_type": "markdown",
   "id": "ead1652f",
   "metadata": {
    "papermill": {
     "duration": 0.020445,
     "end_time": "2022-07-28T22:17:40.423720",
     "exception": false,
     "start_time": "2022-07-28T22:17:40.403275",
     "status": "completed"
    },
    "tags": []
   },
   "source": [
    "# Models Building"
   ]
  },
  {
   "cell_type": "markdown",
   "id": "997370e7",
   "metadata": {
    "papermill": {
     "duration": 0.019624,
     "end_time": "2022-07-28T22:17:40.463153",
     "exception": false,
     "start_time": "2022-07-28T22:17:40.443529",
     "status": "completed"
    },
    "tags": []
   },
   "source": [
    "# 1 - KNN "
   ]
  },
  {
   "cell_type": "code",
   "execution_count": 17,
   "id": "48024437",
   "metadata": {
    "execution": {
     "iopub.execute_input": "2022-07-28T22:17:40.505674Z",
     "iopub.status.busy": "2022-07-28T22:17:40.505280Z",
     "iopub.status.idle": "2022-07-28T22:17:40.657134Z",
     "shell.execute_reply": "2022-07-28T22:17:40.655805Z"
    },
    "papermill": {
     "duration": 0.176,
     "end_time": "2022-07-28T22:17:40.659845",
     "exception": false,
     "start_time": "2022-07-28T22:17:40.483845",
     "status": "completed"
    },
    "tags": []
   },
   "outputs": [
    {
     "data": {
      "text/plain": [
       "KNeighborsClassifier()"
      ]
     },
     "execution_count": 17,
     "metadata": {},
     "output_type": "execute_result"
    }
   ],
   "source": [
    "# Model fitting\n",
    "from sklearn.neighbors import KNeighborsClassifier\n",
    "KNN_classifier = KNeighborsClassifier(n_neighbors = 5)\n",
    "KNN_classifier.fit(x_train, y_train)"
   ]
  },
  {
   "cell_type": "code",
   "execution_count": 18,
   "id": "a194f437",
   "metadata": {
    "execution": {
     "iopub.execute_input": "2022-07-28T22:17:40.701452Z",
     "iopub.status.busy": "2022-07-28T22:17:40.701040Z",
     "iopub.status.idle": "2022-07-28T22:17:57.431639Z",
     "shell.execute_reply": "2022-07-28T22:17:57.429666Z"
    },
    "papermill": {
     "duration": 16.755418,
     "end_time": "2022-07-28T22:17:57.435138",
     "exception": false,
     "start_time": "2022-07-28T22:17:40.679720",
     "status": "completed"
    },
    "tags": []
   },
   "outputs": [
    {
     "name": "stdout",
     "output_type": "stream",
     "text": [
      "[8 1 9 ... 5 5 0]\n"
     ]
    }
   ],
   "source": [
    "# Model prediction\n",
    "KNN_y_pred = KNN_classifier.predict(x_test)\n",
    "print(KNN_y_pred)"
   ]
  },
  {
   "cell_type": "code",
   "execution_count": 19,
   "id": "53e6e5da",
   "metadata": {
    "execution": {
     "iopub.execute_input": "2022-07-28T22:17:57.481025Z",
     "iopub.status.busy": "2022-07-28T22:17:57.479775Z",
     "iopub.status.idle": "2022-07-28T22:17:57.527724Z",
     "shell.execute_reply": "2022-07-28T22:17:57.526149Z"
    },
    "papermill": {
     "duration": 0.073714,
     "end_time": "2022-07-28T22:17:57.530533",
     "exception": false,
     "start_time": "2022-07-28T22:17:57.456819",
     "status": "completed"
    },
    "tags": []
   },
   "outputs": [
    {
     "name": "stdout",
     "output_type": "stream",
     "text": [
      "0.9655555555555555\n",
      "              precision    recall  f1-score   support\n",
      "\n",
      "           0       0.97      1.00      0.98      1200\n",
      "           1       0.94      1.00      0.97      1389\n",
      "           2       0.99      0.95      0.97      1294\n",
      "           3       0.95      0.96      0.96      1355\n",
      "           4       0.98      0.97      0.97      1222\n",
      "           5       0.96      0.95      0.96      1085\n",
      "           6       0.97      0.99      0.98      1256\n",
      "           7       0.96      0.96      0.96      1359\n",
      "           8       0.99      0.93      0.96      1209\n",
      "           9       0.95      0.95      0.95      1231\n",
      "\n",
      "    accuracy                           0.97     12600\n",
      "   macro avg       0.97      0.97      0.97     12600\n",
      "weighted avg       0.97      0.97      0.97     12600\n",
      "\n",
      "[[1196    0    0    0    0    0    4    0    0    0]\n",
      " [   0 1384    1    0    0    0    4    0    0    0]\n",
      " [  10   19 1223    4    2    2    2   28    4    0]\n",
      " [   3    5    9 1299    0   14    2    8    7    8]\n",
      " [   2   11    0    0 1181    0    4    2    0   22]\n",
      " [   1    3    0   30    1 1034   11    0    1    4]\n",
      " [   9    3    1    0    1    2 1239    0    1    0]\n",
      " [   0   26    2    0    2    0    0 1311    0   18]\n",
      " [   2   14    3   19    3   20    5    2 1127   14]\n",
      " [   8    3    1   13   13    1    0   18    2 1172]]\n"
     ]
    }
   ],
   "source": [
    "from sklearn.metrics import accuracy_score,classification_report,confusion_matrix\n",
    "print(accuracy_score(y_test, KNN_y_pred))\n",
    "print(classification_report(y_test, KNN_y_pred))\n",
    "print(confusion_matrix(y_test, KNN_y_pred))"
   ]
  },
  {
   "cell_type": "code",
   "execution_count": 20,
   "id": "446fb64d",
   "metadata": {
    "execution": {
     "iopub.execute_input": "2022-07-28T22:17:57.572352Z",
     "iopub.status.busy": "2022-07-28T22:17:57.571965Z",
     "iopub.status.idle": "2022-07-28T22:17:57.577005Z",
     "shell.execute_reply": "2022-07-28T22:17:57.575685Z"
    },
    "papermill": {
     "duration": 0.028794,
     "end_time": "2022-07-28T22:17:57.579365",
     "exception": false,
     "start_time": "2022-07-28T22:17:57.550571",
     "status": "completed"
    },
    "tags": []
   },
   "outputs": [],
   "source": [
    "# We can say that 5NN Model gets accuracy of 97% and it's performance is very good :) ,But let us look at the confusion matrix "
   ]
  },
  {
   "cell_type": "markdown",
   "id": "6ea3ff14",
   "metadata": {
    "papermill": {
     "duration": 0.020824,
     "end_time": "2022-07-28T22:17:57.621012",
     "exception": false,
     "start_time": "2022-07-28T22:17:57.600188",
     "status": "completed"
    },
    "tags": []
   },
   "source": [
    "# Confusion Matrix Heatmap for more visulaization "
   ]
  },
  {
   "cell_type": "code",
   "execution_count": 21,
   "id": "f96f398e",
   "metadata": {
    "execution": {
     "iopub.execute_input": "2022-07-28T22:17:57.666927Z",
     "iopub.status.busy": "2022-07-28T22:17:57.665581Z",
     "iopub.status.idle": "2022-07-28T22:17:58.292273Z",
     "shell.execute_reply": "2022-07-28T22:17:58.291219Z"
    },
    "papermill": {
     "duration": 0.652638,
     "end_time": "2022-07-28T22:17:58.295204",
     "exception": false,
     "start_time": "2022-07-28T22:17:57.642566",
     "status": "completed"
    },
    "tags": []
   },
   "outputs": [
    {
     "data": {
      "image/png": "[encoded data removed]",
      "text/plain": [
       "<Figure size 432x288 with 2 Axes>"
      ]
     },
     "metadata": {
      "needs_background": "light"
     },
     "output_type": "display_data"
    }
   ],
   "source": [
    "S=sns.heatmap(confusion_matrix(y_test, KNN_y_pred), annot=True ,cmap=\"nipy_spectral_r\").set_title(\"MNIST_Confusion_Matrix_Heatmap\")\n"
   ]
  },
  {
   "cell_type": "code",
   "execution_count": 22,
   "id": "52a3da5a",
   "metadata": {
    "execution": {
     "iopub.execute_input": "2022-07-28T22:17:58.340738Z",
     "iopub.status.busy": "2022-07-28T22:17:58.339966Z",
     "iopub.status.idle": "2022-07-28T22:17:58.361630Z",
     "shell.execute_reply": "2022-07-28T22:17:58.360525Z"
    },
    "papermill": {
     "duration": 0.047224,
     "end_time": "2022-07-28T22:17:58.364025",
     "exception": false,
     "start_time": "2022-07-28T22:17:58.316801",
     "status": "completed"
    },
    "tags": []
   },
   "outputs": [
    {
     "data": {
      "text/plain": [
       "KNeighborsClassifier(n_neighbors=7)"
      ]
     },
     "execution_count": 22,
     "metadata": {},
     "output_type": "execute_result"
    }
   ],
   "source": [
    "# Let's try K=7 instead of K=5 and see the performance:\n",
    "\n",
    "from sklearn.neighbors import KNeighborsClassifier\n",
    "KNN_classifier = KNeighborsClassifier(n_neighbors = 7)\n",
    "KNN_classifier.fit(x_train, y_train)"
   ]
  },
  {
   "cell_type": "code",
   "execution_count": 23,
   "id": "3ea37088",
   "metadata": {
    "execution": {
     "iopub.execute_input": "2022-07-28T22:17:58.410184Z",
     "iopub.status.busy": "2022-07-28T22:17:58.409455Z",
     "iopub.status.idle": "2022-07-28T22:18:15.946376Z",
     "shell.execute_reply": "2022-07-28T22:18:15.944803Z"
    },
    "papermill": {
     "duration": 17.562752,
     "end_time": "2022-07-28T22:18:15.948997",
     "exception": false,
     "start_time": "2022-07-28T22:17:58.386245",
     "status": "completed"
    },
    "tags": []
   },
   "outputs": [
    {
     "name": "stdout",
     "output_type": "stream",
     "text": [
      "[8 1 9 ... 5 5 0]\n"
     ]
    }
   ],
   "source": [
    "KNN_y_pred = KNN_classifier.predict(x_test)\n",
    "print(KNN_y_pred)"
   ]
  },
  {
   "cell_type": "code",
   "execution_count": 24,
   "id": "0018d0d2",
   "metadata": {
    "execution": {
     "iopub.execute_input": "2022-07-28T22:18:15.993378Z",
     "iopub.status.busy": "2022-07-28T22:18:15.992733Z",
     "iopub.status.idle": "2022-07-28T22:18:16.037137Z",
     "shell.execute_reply": "2022-07-28T22:18:16.035838Z"
    },
    "papermill": {
     "duration": 0.068743,
     "end_time": "2022-07-28T22:18:16.039436",
     "exception": false,
     "start_time": "2022-07-28T22:18:15.970693",
     "status": "completed"
    },
    "tags": []
   },
   "outputs": [
    {
     "name": "stdout",
     "output_type": "stream",
     "text": [
      "0.9633333333333334\n",
      "              precision    recall  f1-score   support\n",
      "\n",
      "           0       0.97      1.00      0.98      1200\n",
      "           1       0.94      1.00      0.97      1389\n",
      "           2       0.98      0.94      0.96      1294\n",
      "           3       0.95      0.95      0.95      1355\n",
      "           4       0.98      0.96      0.97      1222\n",
      "           5       0.96      0.95      0.96      1085\n",
      "           6       0.97      0.98      0.98      1256\n",
      "           7       0.95      0.96      0.96      1359\n",
      "           8       0.99      0.93      0.96      1209\n",
      "           9       0.94      0.95      0.95      1231\n",
      "\n",
      "    accuracy                           0.96     12600\n",
      "   macro avg       0.96      0.96      0.96     12600\n",
      "weighted avg       0.96      0.96      0.96     12600\n",
      "\n",
      "[[1196    0    0    0    0    0    4    0    0    0]\n",
      " [   0 1384    1    0    0    0    4    0    0    0]\n",
      " [  10   19 1218    6    2    1    2   31    4    1]\n",
      " [   4    7    9 1292    0   14    1   11    8    9]\n",
      " [   2   12    0    0 1175    0    5    2    0   26]\n",
      " [   2    2    0   24    1 1033   12    1    2    8]\n",
      " [  10    3    1    0    1    4 1236    0    1    0]\n",
      " [   0   28    3    0    2    0    0 1311    0   15]\n",
      " [   1   18    4   19    5   20    5    1 1122   14]\n",
      " [   8    3    2   13   11    1    0   20    2 1171]]\n"
     ]
    }
   ],
   "source": [
    "from sklearn.metrics import accuracy_score,classification_report,confusion_matrix\n",
    "print(accuracy_score(y_test, KNN_y_pred))\n",
    "print(classification_report(y_test, KNN_y_pred))\n",
    "print(confusion_matrix(y_test, KNN_y_pred))"
   ]
  },
  {
   "cell_type": "code",
   "execution_count": 25,
   "id": "ea9b1744",
   "metadata": {
    "execution": {
     "iopub.execute_input": "2022-07-28T22:18:16.083678Z",
     "iopub.status.busy": "2022-07-28T22:18:16.083027Z",
     "iopub.status.idle": "2022-07-28T22:18:16.087167Z",
     "shell.execute_reply": "2022-07-28T22:18:16.086112Z"
    },
    "papermill": {
     "duration": 0.028868,
     "end_time": "2022-07-28T22:18:16.089577",
     "exception": false,
     "start_time": "2022-07-28T22:18:16.060709",
     "status": "completed"
    },
    "tags": []
   },
   "outputs": [],
   "source": [
    "# 5NN is better than 7NN but both performance are close together \n",
    "# 5NN accuracy is 97% \n",
    "# 7NN accuracy is 96%"
   ]
  },
  {
   "cell_type": "markdown",
   "id": "ec1880f8",
   "metadata": {
    "papermill": {
     "duration": 0.02091,
     "end_time": "2022-07-28T22:18:16.131819",
     "exception": false,
     "start_time": "2022-07-28T22:18:16.110909",
     "status": "completed"
    },
    "tags": []
   },
   "source": [
    "# Let's Try Another Model"
   ]
  },
  {
   "cell_type": "markdown",
   "id": "99613dd3",
   "metadata": {
    "papermill": {
     "duration": 0.020857,
     "end_time": "2022-07-28T22:18:16.173984",
     "exception": false,
     "start_time": "2022-07-28T22:18:16.153127",
     "status": "completed"
    },
    "tags": []
   },
   "source": [
    "# 2-Training a Binary Classifier (SGD Classifier)\n"
   ]
  },
  {
   "cell_type": "code",
   "execution_count": 26,
   "id": "af9074f0",
   "metadata": {
    "execution": {
     "iopub.execute_input": "2022-07-28T22:18:16.218055Z",
     "iopub.status.busy": "2022-07-28T22:18:16.217685Z",
     "iopub.status.idle": "2022-07-28T22:18:16.222811Z",
     "shell.execute_reply": "2022-07-28T22:18:16.222120Z"
    },
    "papermill": {
     "duration": 0.0295,
     "end_time": "2022-07-28T22:18:16.224923",
     "exception": false,
     "start_time": "2022-07-28T22:18:16.195423",
     "status": "completed"
    },
    "tags": []
   },
   "outputs": [],
   "source": [
    "y_train_5 = (y_train == 5) # True for all 5s, False for all other digits.\n",
    "y_test_5 = (y_test == 5)"
   ]
  },
  {
   "cell_type": "code",
   "execution_count": 27,
   "id": "ad0cc5bf",
   "metadata": {
    "execution": {
     "iopub.execute_input": "2022-07-28T22:18:16.268932Z",
     "iopub.status.busy": "2022-07-28T22:18:16.268234Z",
     "iopub.status.idle": "2022-07-28T22:18:21.644546Z",
     "shell.execute_reply": "2022-07-28T22:18:21.643620Z"
    },
    "papermill": {
     "duration": 5.400616,
     "end_time": "2022-07-28T22:18:21.646680",
     "exception": false,
     "start_time": "2022-07-28T22:18:16.246064",
     "status": "completed"
    },
    "tags": []
   },
   "outputs": [
    {
     "data": {
      "text/plain": [
       "SGDClassifier(random_state=42)"
      ]
     },
     "execution_count": 27,
     "metadata": {},
     "output_type": "execute_result"
    }
   ],
   "source": [
    "# Okay, now let’s pick a classifier and train it. A good place to start is with a Stochastic\n",
    "# Gradient Descent (SGD) classifier, using Scikit-Learn’s SGDClassifier class.\n",
    "\n",
    "from sklearn.linear_model import SGDClassifier\n",
    "sgd_clf = SGDClassifier(random_state=42)\n",
    "sgd_clf.fit(x_train, y_train_5)"
   ]
  },
  {
   "cell_type": "raw",
   "id": "4da82aa8",
   "metadata": {
    "papermill": {
     "duration": 0.022413,
     "end_time": "2022-07-28T22:18:21.691304",
     "exception": false,
     "start_time": "2022-07-28T22:18:21.668891",
     "status": "completed"
    },
    "tags": []
   },
   "source": [
    "# Let's print some_digit that is labeled 5:"
   ]
  },
  {
   "cell_type": "code",
   "execution_count": 28,
   "id": "2408a661",
   "metadata": {
    "execution": {
     "iopub.execute_input": "2022-07-28T22:18:21.735183Z",
     "iopub.status.busy": "2022-07-28T22:18:21.734745Z",
     "iopub.status.idle": "2022-07-28T22:18:22.094908Z",
     "shell.execute_reply": "2022-07-28T22:18:22.093226Z"
    },
    "papermill": {
     "duration": 0.385036,
     "end_time": "2022-07-28T22:18:22.097402",
     "exception": false,
     "start_time": "2022-07-28T22:18:21.712366",
     "status": "completed"
    },
    "tags": []
   },
   "outputs": [
    {
     "name": "stdout",
     "output_type": "stream",
     "text": [
      "5\n"
     ]
    },
    {
     "data": {
      "image/png": "[encoded data removed]",
      "text/plain": [
       "<Figure size 360x360 with 1 Axes>"
      ]
     },
     "metadata": {
      "needs_background": "light"
     },
     "output_type": "display_data"
    }
   ],
   "source": [
    "plt.figure(figsize=(5,5))\n",
    "some_digit=19\n",
    "some_digit_image = x.iloc[some_digit].to_numpy().reshape(28, 28)\n",
    "plt.imshow(np.reshape(some_digit_image, (28,28)), cmap=plt.cm.gray)\n",
    "print(y[some_digit])"
   ]
  },
  {
   "cell_type": "code",
   "execution_count": 29,
   "id": "fcbc550b",
   "metadata": {
    "execution": {
     "iopub.execute_input": "2022-07-28T22:18:22.143052Z",
     "iopub.status.busy": "2022-07-28T22:18:22.142206Z",
     "iopub.status.idle": "2022-07-28T22:18:22.230401Z",
     "shell.execute_reply": "2022-07-28T22:18:22.228594Z"
    },
    "papermill": {
     "duration": 0.115922,
     "end_time": "2022-07-28T22:18:22.234821",
     "exception": false,
     "start_time": "2022-07-28T22:18:22.118899",
     "status": "completed"
    },
    "tags": []
   },
   "outputs": [
    {
     "data": {
      "image/png": "[encoded data removed]",
      "text/plain": [
       "<Figure size 432x288 with 1 Axes>"
      ]
     },
     "metadata": {
      "needs_background": "light"
     },
     "output_type": "display_data"
    },
    {
     "name": "stdout",
     "output_type": "stream",
     "text": [
      "5\n"
     ]
    }
   ],
   "source": [
    "some_digit = x_train.iloc[44]\n",
    "some_digit_image = some_digit.to_numpy().reshape(28, 28)\n",
    "plt.imshow(some_digit_image, cmap = mpl.cm.binary, interpolation=\"nearest\")\n",
    "plt.axis(\"off\")\n",
    "plt.show()\n",
    "print(y_train.iloc[44])"
   ]
  },
  {
   "cell_type": "code",
   "execution_count": 30,
   "id": "f9e199b2",
   "metadata": {
    "execution": {
     "iopub.execute_input": "2022-07-28T22:18:22.307786Z",
     "iopub.status.busy": "2022-07-28T22:18:22.307419Z",
     "iopub.status.idle": "2022-07-28T22:18:22.317313Z",
     "shell.execute_reply": "2022-07-28T22:18:22.316161Z"
    },
    "papermill": {
     "duration": 0.042669,
     "end_time": "2022-07-28T22:18:22.319637",
     "exception": false,
     "start_time": "2022-07-28T22:18:22.276968",
     "status": "completed"
    },
    "tags": []
   },
   "outputs": [
    {
     "name": "stderr",
     "output_type": "stream",
     "text": [
      "/opt/conda/lib/python3.7/site-packages/sklearn/base.py:451: UserWarning: X does not have valid feature names, but SGDClassifier was fitted with feature names\n",
      "  \"X does not have valid feature names, but\"\n"
     ]
    },
    {
     "data": {
      "text/plain": [
       "array([ True])"
      ]
     },
     "execution_count": 30,
     "metadata": {},
     "output_type": "execute_result"
    }
   ],
   "source": [
    "# Now, detect images of the number 5:\n",
    "sgd_clf.predict([some_digit])"
   ]
  },
  {
   "cell_type": "code",
   "execution_count": 31,
   "id": "a7011130",
   "metadata": {
    "execution": {
     "iopub.execute_input": "2022-07-28T22:18:22.365333Z",
     "iopub.status.busy": "2022-07-28T22:18:22.364704Z",
     "iopub.status.idle": "2022-07-28T22:18:22.376609Z",
     "shell.execute_reply": "2022-07-28T22:18:22.374620Z"
    },
    "papermill": {
     "duration": 0.038431,
     "end_time": "2022-07-28T22:18:22.379582",
     "exception": false,
     "start_time": "2022-07-28T22:18:22.341151",
     "status": "completed"
    },
    "tags": []
   },
   "outputs": [
    {
     "name": "stdout",
     "output_type": "stream",
     "text": [
      "1\n"
     ]
    },
    {
     "name": "stderr",
     "output_type": "stream",
     "text": [
      "/opt/conda/lib/python3.7/site-packages/sklearn/base.py:451: UserWarning: X does not have valid feature names, but SGDClassifier was fitted with feature names\n",
      "  \"X does not have valid feature names, but\"\n"
     ]
    },
    {
     "data": {
      "text/plain": [
       "array([False])"
      ]
     },
     "execution_count": 31,
     "metadata": {},
     "output_type": "execute_result"
    }
   ],
   "source": [
    "# If the number was any number but not 5 :\n",
    "some_digit = x_train.iloc[4]\n",
    "print(y_train.iloc[4])\n",
    "sgd_clf.predict([some_digit])"
   ]
  },
  {
   "cell_type": "markdown",
   "id": "8bf2bcb8",
   "metadata": {
    "papermill": {
     "duration": 0.022001,
     "end_time": "2022-07-28T22:18:22.423660",
     "exception": false,
     "start_time": "2022-07-28T22:18:22.401659",
     "status": "completed"
    },
    "tags": []
   },
   "source": [
    "# SGD Confusion Matrix\n",
    "\n",
    "#Each row in a confusion matrix represents an actual class, while each column represents\n",
    "#a predicted class. -->"
   ]
  },
  {
   "cell_type": "code",
   "execution_count": 32,
   "id": "d1d2905c",
   "metadata": {
    "execution": {
     "iopub.execute_input": "2022-07-28T22:18:22.469553Z",
     "iopub.status.busy": "2022-07-28T22:18:22.469171Z",
     "iopub.status.idle": "2022-07-28T22:18:35.494277Z",
     "shell.execute_reply": "2022-07-28T22:18:35.492503Z"
    },
    "papermill": {
     "duration": 13.052622,
     "end_time": "2022-07-28T22:18:35.498341",
     "exception": false,
     "start_time": "2022-07-28T22:18:22.445719",
     "status": "completed"
    },
    "tags": []
   },
   "outputs": [
    {
     "data": {
      "text/plain": [
       "array([False, False, False, ..., False, False, False])"
      ]
     },
     "execution_count": 32,
     "metadata": {},
     "output_type": "execute_result"
    }
   ],
   "source": [
    "from sklearn.model_selection import cross_val_predict\n",
    "y_train_pred = cross_val_predict(sgd_clf, x_train, y_train_5, cv=3)\n",
    "y_train_pred"
   ]
  },
  {
   "cell_type": "code",
   "execution_count": 33,
   "id": "101be79e",
   "metadata": {
    "execution": {
     "iopub.execute_input": "2022-07-28T22:18:35.584115Z",
     "iopub.status.busy": "2022-07-28T22:18:35.583490Z",
     "iopub.status.idle": "2022-07-28T22:18:35.604347Z",
     "shell.execute_reply": "2022-07-28T22:18:35.603302Z"
    },
    "papermill": {
     "duration": 0.066544,
     "end_time": "2022-07-28T22:18:35.606601",
     "exception": false,
     "start_time": "2022-07-28T22:18:35.540057",
     "status": "completed"
    },
    "tags": []
   },
   "outputs": [
    {
     "data": {
      "text/plain": [
       "array([[26320,   370],\n",
       "       [  719,  1991]])"
      ]
     },
     "execution_count": 33,
     "metadata": {},
     "output_type": "execute_result"
    }
   ],
   "source": [
    "from sklearn.metrics import confusion_matrix\n",
    "confusion_matrix(y_train_5, y_train_pred)  "
   ]
  },
  {
   "cell_type": "code",
   "execution_count": 34,
   "id": "17e60ad4",
   "metadata": {
    "execution": {
     "iopub.execute_input": "2022-07-28T22:18:35.652804Z",
     "iopub.status.busy": "2022-07-28T22:18:35.652404Z",
     "iopub.status.idle": "2022-07-28T22:18:35.663837Z",
     "shell.execute_reply": "2022-07-28T22:18:35.663036Z"
    },
    "papermill": {
     "duration": 0.037203,
     "end_time": "2022-07-28T22:18:35.666019",
     "exception": false,
     "start_time": "2022-07-28T22:18:35.628816",
     "status": "completed"
    },
    "tags": []
   },
   "outputs": [
    {
     "data": {
      "text/plain": [
       "array([[26690,     0],\n",
       "       [    0,  2710]])"
      ]
     },
     "execution_count": 34,
     "metadata": {},
     "output_type": "execute_result"
    }
   ],
   "source": [
    "y_train_perfect_predictions = y_train_5 # pretend we reached perfection\n",
    "confusion_matrix(y_train_5, y_train_perfect_predictions)"
   ]
  },
  {
   "cell_type": "code",
   "execution_count": 35,
   "id": "eeb60473",
   "metadata": {
    "execution": {
     "iopub.execute_input": "2022-07-28T22:18:35.713234Z",
     "iopub.status.busy": "2022-07-28T22:18:35.712566Z",
     "iopub.status.idle": "2022-07-28T22:18:35.749323Z",
     "shell.execute_reply": "2022-07-28T22:18:35.747498Z"
    },
    "papermill": {
     "duration": 0.064638,
     "end_time": "2022-07-28T22:18:35.753260",
     "exception": false,
     "start_time": "2022-07-28T22:18:35.688622",
     "status": "completed"
    },
    "tags": []
   },
   "outputs": [
    {
     "name": "stdout",
     "output_type": "stream",
     "text": [
      "precision score is: 0.8432867429055485\n",
      "recall score is: 0.7346863468634687\n",
      "f1 score is: 0.7852494577006507\n"
     ]
    }
   ],
   "source": [
    "# Let's check for the performance score:\n",
    "from sklearn.metrics import precision_score, recall_score ,f1_score\n",
    "print(\"precision score is: \"+ str(precision_score(y_train_5, y_train_pred)))\n",
    "print(\"recall score is: \"+str(recall_score(y_train_5, y_train_pred)))\n",
    "print(\"f1 score is: \"+str(f1_score(y_train_5, y_train_pred)))"
   ]
  },
  {
   "cell_type": "markdown",
   "id": "1d1d4b32",
   "metadata": {
    "papermill": {
     "duration": 0.022262,
     "end_time": "2022-07-28T22:18:35.798670",
     "exception": false,
     "start_time": "2022-07-28T22:18:35.776408",
     "status": "completed"
    },
    "tags": []
   },
   "source": [
    "#Precision/Recall Tradeoff"
   ]
  },
  {
   "cell_type": "code",
   "execution_count": 36,
   "id": "1740857e",
   "metadata": {
    "execution": {
     "iopub.execute_input": "2022-07-28T22:18:35.846750Z",
     "iopub.status.busy": "2022-07-28T22:18:35.845968Z",
     "iopub.status.idle": "2022-07-28T22:18:35.850194Z",
     "shell.execute_reply": "2022-07-28T22:18:35.849346Z"
    },
    "papermill": {
     "duration": 0.030412,
     "end_time": "2022-07-28T22:18:35.852211",
     "exception": false,
     "start_time": "2022-07-28T22:18:35.821799",
     "status": "completed"
    },
    "tags": []
   },
   "outputs": [],
   "source": [
    "# lowering the threshold increases recall and reduces precision.\n",
    "# Instead of calling the classifier’s predict() method, you can call its decision_function() method\n",
    "# which returns a score for each instance, and then make predictions based on those scores using any threshold you want:)\n",
    "# Remember that: A high-precision classifier is not very useful if its recall is too low!"
   ]
  },
  {
   "cell_type": "code",
   "execution_count": 37,
   "id": "1b55a0a8",
   "metadata": {
    "execution": {
     "iopub.execute_input": "2022-07-28T22:18:35.899311Z",
     "iopub.status.busy": "2022-07-28T22:18:35.898578Z",
     "iopub.status.idle": "2022-07-28T22:18:35.906181Z",
     "shell.execute_reply": "2022-07-28T22:18:35.905153Z"
    },
    "papermill": {
     "duration": 0.033815,
     "end_time": "2022-07-28T22:18:35.908351",
     "exception": false,
     "start_time": "2022-07-28T22:18:35.874536",
     "status": "completed"
    },
    "tags": []
   },
   "outputs": [
    {
     "name": "stderr",
     "output_type": "stream",
     "text": [
      "/opt/conda/lib/python3.7/site-packages/sklearn/base.py:451: UserWarning: X does not have valid feature names, but SGDClassifier was fitted with feature names\n",
      "  \"X does not have valid feature names, but\"\n"
     ]
    },
    {
     "data": {
      "text/plain": [
       "array([-8814.37859762])"
      ]
     },
     "execution_count": 37,
     "metadata": {},
     "output_type": "execute_result"
    }
   ],
   "source": [
    "y_scores = sgd_clf.decision_function([some_digit])\n",
    "y_scores"
   ]
  },
  {
   "cell_type": "code",
   "execution_count": 38,
   "id": "6aa25a31",
   "metadata": {
    "execution": {
     "iopub.execute_input": "2022-07-28T22:18:35.956451Z",
     "iopub.status.busy": "2022-07-28T22:18:35.955745Z",
     "iopub.status.idle": "2022-07-28T22:18:35.961992Z",
     "shell.execute_reply": "2022-07-28T22:18:35.961153Z"
    },
    "papermill": {
     "duration": 0.032547,
     "end_time": "2022-07-28T22:18:35.963933",
     "exception": false,
     "start_time": "2022-07-28T22:18:35.931386",
     "status": "completed"
    },
    "tags": []
   },
   "outputs": [
    {
     "data": {
      "text/plain": [
       "array([False])"
      ]
     },
     "execution_count": 38,
     "metadata": {},
     "output_type": "execute_result"
    }
   ],
   "source": [
    "threshold = 0\n",
    "y_some_digit_pred = (y_scores > threshold)\n",
    "y_some_digit_pred"
   ]
  },
  {
   "cell_type": "code",
   "execution_count": 39,
   "id": "e46985a3",
   "metadata": {
    "execution": {
     "iopub.execute_input": "2022-07-28T22:18:36.011271Z",
     "iopub.status.busy": "2022-07-28T22:18:36.010527Z",
     "iopub.status.idle": "2022-07-28T22:18:36.016515Z",
     "shell.execute_reply": "2022-07-28T22:18:36.015805Z"
    },
    "papermill": {
     "duration": 0.031934,
     "end_time": "2022-07-28T22:18:36.018510",
     "exception": false,
     "start_time": "2022-07-28T22:18:35.986576",
     "status": "completed"
    },
    "tags": []
   },
   "outputs": [
    {
     "data": {
      "text/plain": [
       "array([ True])"
      ]
     },
     "execution_count": 39,
     "metadata": {},
     "output_type": "execute_result"
    }
   ],
   "source": [
    "# Let's reduce the threshold\n",
    "threshold = -9000\n",
    "y_some_digit_pred = (y_scores > threshold)\n",
    "y_some_digit_pred"
   ]
  },
  {
   "cell_type": "code",
   "execution_count": 40,
   "id": "8351c2ef",
   "metadata": {
    "execution": {
     "iopub.execute_input": "2022-07-28T22:18:36.066035Z",
     "iopub.status.busy": "2022-07-28T22:18:36.065335Z",
     "iopub.status.idle": "2022-07-28T22:18:49.111528Z",
     "shell.execute_reply": "2022-07-28T22:18:49.109964Z"
    },
    "papermill": {
     "duration": 13.074746,
     "end_time": "2022-07-28T22:18:49.115935",
     "exception": false,
     "start_time": "2022-07-28T22:18:36.041189",
     "status": "completed"
    },
    "tags": []
   },
   "outputs": [],
   "source": [
    "#Let's plot the precision_recall_curve\n",
    "y_scores = cross_val_predict(sgd_clf, x_train, y_train_5, cv=3,\n",
    "method=\"decision_function\")\n",
    "from sklearn.metrics import precision_recall_curve\n",
    "precisions, recalls, thresholds = precision_recall_curve(y_train_5, y_scores)"
   ]
  },
  {
   "cell_type": "code",
   "execution_count": 41,
   "id": "e651a87e",
   "metadata": {
    "execution": {
     "iopub.execute_input": "2022-07-28T22:18:49.204687Z",
     "iopub.status.busy": "2022-07-28T22:18:49.204053Z",
     "iopub.status.idle": "2022-07-28T22:18:49.396202Z",
     "shell.execute_reply": "2022-07-28T22:18:49.394996Z"
    },
    "papermill": {
     "duration": 0.239878,
     "end_time": "2022-07-28T22:18:49.398835",
     "exception": false,
     "start_time": "2022-07-28T22:18:49.158957",
     "status": "completed"
    },
    "tags": []
   },
   "outputs": [
    {
     "data": {
      "image/png": "[encoded data removed]",
      "text/plain": [
       "<Figure size 432x288 with 1 Axes>"
      ]
     },
     "metadata": {
      "needs_background": "light"
     },
     "output_type": "display_data"
    }
   ],
   "source": [
    "def plot_precision_recall_vs_threshold(precisions, recalls, thresholds):\n",
    "    plt.plot(thresholds, precisions[:-1], \"b--\", label=\"Precision\")\n",
    "    plt.plot(thresholds, recalls[:-1], \"g-\", label=\"Recall\")\n",
    "    [...] # highlight the threshold, add the legend, axis label and grid\n",
    "plot_precision_recall_vs_threshold(precisions, recalls, thresholds)\n",
    "plt.show()"
   ]
  },
  {
   "cell_type": "markdown",
   "id": "8e9176ce",
   "metadata": {
    "papermill": {
     "duration": 0.022745,
     "end_time": "2022-07-28T22:18:49.445351",
     "exception": false,
     "start_time": "2022-07-28T22:18:49.422606",
     "status": "completed"
    },
    "tags": []
   },
   "source": [
    "# Multiclass classifier"
   ]
  },
  {
   "cell_type": "markdown",
   "id": "d7961636",
   "metadata": {
    "papermill": {
     "duration": 0.022786,
     "end_time": "2022-07-28T22:18:49.491195",
     "exception": false,
     "start_time": "2022-07-28T22:18:49.468409",
     "status": "completed"
    },
    "tags": []
   },
   "source": [
    "# 3-RandomForestClassifier"
   ]
  },
  {
   "cell_type": "code",
   "execution_count": 42,
   "id": "807848c2",
   "metadata": {
    "execution": {
     "iopub.execute_input": "2022-07-28T22:18:49.539520Z",
     "iopub.status.busy": "2022-07-28T22:18:49.539138Z",
     "iopub.status.idle": "2022-07-28T22:19:08.593199Z",
     "shell.execute_reply": "2022-07-28T22:19:08.591967Z"
    },
    "papermill": {
     "duration": 19.081157,
     "end_time": "2022-07-28T22:19:08.595625",
     "exception": false,
     "start_time": "2022-07-28T22:18:49.514468",
     "status": "completed"
    },
    "tags": []
   },
   "outputs": [
    {
     "data": {
      "text/plain": [
       "RandomForestClassifier()"
      ]
     },
     "execution_count": 42,
     "metadata": {},
     "output_type": "execute_result"
    }
   ],
   "source": [
    "from sklearn.ensemble import RandomForestClassifier\n",
    "RF=RandomForestClassifier(n_estimators=100)\n",
    "RF.fit(x_train,y_train)"
   ]
  },
  {
   "cell_type": "code",
   "execution_count": 43,
   "id": "c93a8196",
   "metadata": {
    "execution": {
     "iopub.execute_input": "2022-07-28T22:19:08.644622Z",
     "iopub.status.busy": "2022-07-28T22:19:08.643852Z",
     "iopub.status.idle": "2022-07-28T22:19:09.252140Z",
     "shell.execute_reply": "2022-07-28T22:19:09.250990Z"
    },
    "papermill": {
     "duration": 0.635937,
     "end_time": "2022-07-28T22:19:09.255116",
     "exception": false,
     "start_time": "2022-07-28T22:19:08.619179",
     "status": "completed"
    },
    "tags": []
   },
   "outputs": [
    {
     "name": "stdout",
     "output_type": "stream",
     "text": [
      "classification report \n",
      " \n",
      "              precision    recall  f1-score   support\n",
      "\n",
      "           0       0.97      0.99      0.98      1200\n",
      "           1       0.98      0.99      0.99      1389\n",
      "           2       0.96      0.96      0.96      1294\n",
      "           3       0.95      0.93      0.94      1355\n",
      "           4       0.96      0.97      0.97      1222\n",
      "           5       0.96      0.96      0.96      1085\n",
      "           6       0.97      0.98      0.97      1256\n",
      "           7       0.97      0.95      0.96      1359\n",
      "           8       0.95      0.96      0.95      1209\n",
      "           9       0.93      0.94      0.94      1231\n",
      "\n",
      "    accuracy                           0.96     12600\n",
      "   macro avg       0.96      0.96      0.96     12600\n",
      "weighted avg       0.96      0.96      0.96     12600\n",
      "\n",
      "confusion matrix \n",
      "\n",
      "[[1183    0    2    2    2    1    6    0    4    0]\n",
      " [   0 1372    5    4    1    2    1    1    2    1]\n",
      " [   5    4 1240    7    9    2    5   10   11    1]\n",
      " [   4    1   15 1264    2   21    3   16   18   11]\n",
      " [   2    0    0    0 1185    0    8    3    3   21]\n",
      " [   3    3    2   15    1 1037   11    1    5    7]\n",
      " [   8    2    1    0    4    4 1229    0    8    0]\n",
      " [   1    5   16    4    7    0    0 1293    3   30]\n",
      " [   2    4    4   12    3    9    6    2 1156   11]\n",
      " [   7    3    3   16   15    6    1   10    9 1161]]\n"
     ]
    }
   ],
   "source": [
    "RF_pred=RF.predict(x_test)\n",
    "RF_pred\n",
    "print(\"classification report \\n \\n\"+ classification_report(y_test, RF_pred))\n",
    "print(\"confusion matrix \\n\")\n",
    "print(confusion_matrix(y_test, RF_pred))"
   ]
  },
  {
   "cell_type": "code",
   "execution_count": 44,
   "id": "dd6cb164",
   "metadata": {
    "execution": {
     "iopub.execute_input": "2022-07-28T22:19:09.305008Z",
     "iopub.status.busy": "2022-07-28T22:19:09.303745Z",
     "iopub.status.idle": "2022-07-28T22:19:09.308677Z",
     "shell.execute_reply": "2022-07-28T22:19:09.307499Z"
    },
    "papermill": {
     "duration": 0.032391,
     "end_time": "2022-07-28T22:19:09.311219",
     "exception": false,
     "start_time": "2022-07-28T22:19:09.278828",
     "status": "completed"
    },
    "tags": []
   },
   "outputs": [],
   "source": [
    "# RF Classifier has an accuracy of 96%"
   ]
  },
  {
   "cell_type": "markdown",
   "id": "4164ac36",
   "metadata": {
    "papermill": {
     "duration": 0.023055,
     "end_time": "2022-07-28T22:19:09.358252",
     "exception": false,
     "start_time": "2022-07-28T22:19:09.335197",
     "status": "completed"
    },
    "tags": []
   },
   "source": [
    "# Thank You \n",
    "Amany Maayah"
   ]
  }
 ],
 "metadata": {
  "kernelspec": {
   "display_name": "Python 3",
   "language": "python",
   "name": "python3"
  },
  "language_info": {
   "codemirror_mode": {
    "name": "ipython",
    "version": 3
   },
   "file_extension": ".py",
   "mimetype": "text/x-python",
   "name": "python",
   "nbconvert_exporter": "python",
   "pygments_lexer": "ipython3",
   "version": "3.8.8"
  },
  "papermill": {
   "default_parameters": {},
   "duration": 114.088342,
   "end_time": "2022-07-28T22:19:10.204674",
   "environment_variables": {},
   "exception": null,
   "input_path": "__notebook__.ipynb",
   "output_path": "__notebook__.ipynb",
   "parameters": {},
   "start_time": "2022-07-28T22:17:16.116332",
   "version": "2.3.4"
  }
 },
 "nbformat": 4,
 "nbformat_minor": 5
}
